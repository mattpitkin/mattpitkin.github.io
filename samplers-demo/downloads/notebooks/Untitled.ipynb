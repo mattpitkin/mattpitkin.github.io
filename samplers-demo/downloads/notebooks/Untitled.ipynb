{
 "cells": [
  {
   "cell_type": "code",
   "execution_count": null,
   "id": "f9691cc5",
   "metadata": {},
   "outputs": [],
   "source": [
    "%matplotliob inline\n",
    "\n",
    "from bilby.core.result import read_in_results"
   ]
  },
  {
   "cell_type": "code",
   "execution_count": null,
   "id": "988b3d68",
   "metadata": {},
   "outputs": [],
   "source": []
  }
 ],
 "metadata": {
  "kernelspec": {
   "display_name": "Python 3.7.3 64-bit ('cwinpy-dev': conda)",
   "language": "python",
   "name": "python37364bitcwinpydevconda50ef77291c5b46c99af15d1bc4b6ce4a"
  }
 },
 "nbformat": 4,
 "nbformat_minor": 5
}
